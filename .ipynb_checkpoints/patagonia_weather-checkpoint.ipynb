{
 "cells": [
  {
   "cell_type": "markdown",
   "id": "b476544c",
   "metadata": {},
   "source": [
    "# Patagonia trip in python - map with pictures and diary"
   ]
  },
  {
   "cell_type": "code",
   "execution_count": 128,
   "id": "f26ba5ea",
   "metadata": {},
   "outputs": [],
   "source": [
    "import matplotlib.pyplot as plt\n",
    "import matplotlib.image as mpimg\n",
    "import seaborn as sns\n",
    "import os\n",
    "# define here some variables:\n",
    "ROOT_GPX_FILES = '/Users/filippomichelon/Documents/PersonalCode/garmin_patagonia_gpx_files'\n"
   ]
  },
  {
   "cell_type": "code",
   "execution_count": null,
   "id": "5040c895",
   "metadata": {},
   "outputs": [],
   "source": [
    "# define here the function to extract .gpx files from a folder and extract it\n",
    "import gpxpy\n",
    "import gpxpy.gpx\n",
    "import pandas as pd\n",
    "import os\n",
    "from typing import List\n",
    "\n",
    "def extract_gpx_files_from_folder(folder_path: str) -> pd.DataFrame:\n",
    "    \"\"\"\n",
    "    Extracts multiple .gpx files from a specified folder and combines their data into a Pandas DataFrame.\n",
    "    \n",
    "    Parameters:\n",
    "    folder_path (str): Path to the folder containing .gpx files.\n",
    "    \n",
    "    Returns:\n",
    "    pd.DataFrame: DataFrame containing latitude, longitude, elevation, time, and file name.\n",
    "    \"\"\"\n",
    "    data = []\n",
    "    file_paths = [os.path.join(folder_path, f) for f in os.listdir(folder_path) if f.endswith('.gpx')]\n",
    "    \n",
    "    for file_path in file_paths:\n",
    "        with open(file_path, 'r') as gpx_file:\n",
    "            gpx = gpxpy.parse(gpx_file)\n",
    "            for track in gpx.tracks:\n",
    "                for segment in track.segments:\n",
    "                    for point in segment.points:\n",
    "                        data.append({\n",
    "                            'latitude': point.latitude,\n",
    "                            'longitude': point.longitude,\n",
    "                            'elevation': point.elevation,\n",
    "                            'time': point.time,\n",
    "                            'file': os.path.basename(file_path)\n",
    "                        })\n",
    "    \n",
    "    return pd.DataFrame(data)\n",
    "\n",
    "df = extract_gpx_files_from_folder(ROOT_GPX_FILES)\n",
    "df"
   ]
  },
  {
   "cell_type": "code",
   "execution_count": null,
   "id": "605fa706",
   "metadata": {},
   "outputs": [],
   "source": [
    "\n",
    "for day in df['file'].unique():\n",
    "    day_track = df[df['file'] == day]"
   ]
  },
  {
   "cell_type": "code",
   "execution_count": null,
   "id": "bd28a3a4",
   "metadata": {},
   "outputs": [],
   "source": []
  },
  {
   "cell_type": "code",
   "execution_count": null,
   "id": "52965f65",
   "metadata": {},
   "outputs": [],
   "source": []
  },
  {
   "cell_type": "code",
   "execution_count": 148,
   "id": "56ad7331",
   "metadata": {},
   "outputs": [],
   "source": [
    "import pandas as pd\n",
    "import requests\n",
    "\n",
    "def generate_meteo_url(latitude: float, longitude: float, date: str, hour: str) -> str:\n",
    "    \"\"\"\n",
    "    Generates the Open-Meteo API URL with the specified parameters for latitude, longitude, date, and hour.\n",
    "    \"\"\"\n",
    "    base_url = \"https://api.open-meteo.com/v1/forecast\"\n",
    "    url = f\"{base_url}?latitude={latitude}&longitude={longitude}&current=temperature_2m,wind_speed_10m&hourly=temperature_2m,relative_humidity_2m,precipitation,wind_speed_10m,winddirection_10m&start_date={date}&end_date={date}&hourly={hour}&format=csv\"\n",
    "    return url\n",
    "\n",
    "def get_weather_for_time(df: pd.DataFrame) -> pd.DataFrame:\n",
    "    \"\"\"\n",
    "    Gets the weather data for each time in df.time and returns a DataFrame with the weather info.\n",
    "    \n",
    "    Parameters:\n",
    "    df (pd.DataFrame): DataFrame with 'latitude', 'longitude', and 'time' columns containing coordinates and timestamps.\n",
    "    \n",
    "    Returns:\n",
    "    pd.DataFrame: A DataFrame containing weather data corresponding to each time in df.\n",
    "    \"\"\"\n",
    "    weather_data = []\n",
    "    \n",
    "    for _, row in df.iterrows():\n",
    "        latitude = row['latitude']\n",
    "        longitude = row['longitude']\n",
    "        timestamp = row['time']\n",
    "        \n",
    "        # Extract date and hour from the timestamp\n",
    "        date = timestamp.strftime('%Y-%m-%d')\n",
    "        hour = timestamp.strftime('%H')\n",
    "        \n",
    "        # Generate the URL for the Open-Meteo API based on the date and hour\n",
    "        url = generate_meteo_url(latitude, longitude, date, hour)\n",
    "        \n",
    "        # Request the data from the API\n",
    "        response = requests.get(url)\n",
    "        \n",
    "        if response.status_code == 200:\n",
    "            # Parse the CSV response into a DataFrame\n",
    "            meteo_df = pd.read_csv(pd.compat.StringIO(response.text), skiprows=6)  # Skip the header rows\n",
    "            # Extract the weather data for that time\n",
    "            weather_info = meteo_df[meteo_df['time'] == timestamp.strftime('%Y-%m-%dT%H:%M:%SZ')].iloc[0]\n",
    "            weather_info['latitude'] = latitude\n",
    "            weather_info['longitude'] = longitude\n",
    "            weather_info['time'] = timestamp\n",
    "            weather_data.append(weather_info)\n",
    "        else:\n",
    "            print(f\"Error fetching data for {timestamp}: {response.status_code}\")\n",
    "    \n",
    "    # Return the weather data as a DataFrame\n",
    "    return pd.DataFrame(weather_data)\n",
    "\n",
    "# Example usage:\n",
    "# Assuming df is your DataFrame with 'latitude', 'longitude', and 'time' columns\n",
    "#weather_df = get_weather_for_time(df)\n",
    "#print(weather_df)\n"
   ]
  },
  {
   "cell_type": "code",
   "execution_count": 153,
   "id": "006521bb",
   "metadata": {},
   "outputs": [
    {
     "name": "stdout",
     "output_type": "stream",
     "text": [
      "Error fetching data for 2025-02-23 17:38:15+00:00: 400\n",
      "Error fetching data for 2025-02-23 17:38:16+00:00: 400\n",
      "Error fetching data for 2025-02-23 17:38:17+00:00: 400\n",
      "Empty DataFrame\n",
      "Columns: []\n",
      "Index: []\n"
     ]
    }
   ],
   "source": [
    "weather_df = get_weather_for_time(df.tail(3))\n",
    "print(weather_df)"
   ]
  },
  {
   "cell_type": "code",
   "execution_count": 82,
   "id": "e6918896",
   "metadata": {},
   "outputs": [],
   "source": [
    "#LUIGI'S FUNCTION \n",
    "# Take the meteo dataset using the function below\n",
    "def get_meteo_dataset():\n",
    "    \"\"\"Get the meteo dataset from the open-meteo API.\n",
    "    Note how easy it is to get data from the web with pandas! As long as we give the URL of the csv data, pandas can read it.\n",
    "    \"\"\"\n",
    "    np.random.seed(42)\n",
    "    URL = \"https://api.open-meteo.com/v1/forecast?latitude=52.52&longitude=13.41&current=temperature_2m,wind_speed_10m&hourly=temperature_2m,relative_humidity_2m,precipitation,wind_speed_10m,winddirection_10m&start_date=2025-03-01&end_date=2025-03-10&format=csv\"\n",
    "    df = pd.read_csv(URL, skiprows=6)  # read the csv file, skipping the first 3 rows (a header)\n",
    "    df.columns = [col.split(\" \")[0] for col in df.columns]  # simplify column names\n",
    "    df[\"time\"] = pd.to_datetime(df[\"time\"])  # convert the time column to datetime\n",
    "    df[\"hour\"], df[\"dayofyear\"] = df[\"time\"].dt.hour, df[\"time\"].dt.dayofyear  # extract the hour and day of year\n",
    "    df[\"weekdays\"] = df[\"time\"].dt.day_name()  # extract the day of the week\n",
    "\n",
    "    return df\n",
    "\n",
    "meteo_df = get_meteo_dataset()"
   ]
  },
  {
   "cell_type": "code",
   "execution_count": null,
   "id": "7a6a4507",
   "metadata": {},
   "outputs": [],
   "source": []
  },
  {
   "cell_type": "code",
   "execution_count": null,
   "id": "3011bc88",
   "metadata": {},
   "outputs": [],
   "source": []
  },
  {
   "cell_type": "code",
   "execution_count": null,
   "id": "9d79ef62",
   "metadata": {},
   "outputs": [],
   "source": []
  }
 ],
 "metadata": {
  "kernelspec": {
   "display_name": "Python 3 (ipykernel)",
   "language": "python",
   "name": "python3"
  },
  "language_info": {
   "codemirror_mode": {
    "name": "ipython",
    "version": 3
   },
   "file_extension": ".py",
   "mimetype": "text/x-python",
   "name": "python",
   "nbconvert_exporter": "python",
   "pygments_lexer": "ipython3",
   "version": "3.9.13"
  }
 },
 "nbformat": 4,
 "nbformat_minor": 5
}
