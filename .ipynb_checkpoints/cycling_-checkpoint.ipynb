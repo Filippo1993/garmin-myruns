{
 "cells": [
  {
   "cell_type": "markdown",
   "id": "6c4b8839",
   "metadata": {},
   "source": [
    "### Start to work on the upload"
   ]
  },
  {
   "cell_type": "code",
   "execution_count": 9,
   "id": "11350917",
   "metadata": {},
   "outputs": [],
   "source": [
    "gpx_file = '/Users/filippomichelon/Documents/PersonalCode/garmin_example_files/activity_18305719791.gpx'\n",
    "import matplotlib.pyplot as plt\n",
    "import gpxpy\n",
    "import requests\n",
    "from datetime import datetime"
   ]
  },
  {
   "cell_type": "code",
   "execution_count": 10,
   "id": "c52d85df",
   "metadata": {},
   "outputs": [],
   "source": [
    "# Apri il file GPX\n",
    "with open(gpx_file, \"r\") as gpx_file:\n",
    "    gpx = gpxpy.parse(gpx_file)\n"
   ]
  },
  {
   "cell_type": "code",
   "execution_count": 11,
   "id": "3542578e",
   "metadata": {},
   "outputs": [],
   "source": [
    "# Estrai le coordinate e i tempi\n",
    "coordinates_times = []\n",
    "for track in gpx.tracks:\n",
    "    for segment in track.segments:\n",
    "        for point in segment.points:\n",
    "            coordinates_times.append({\n",
    "                'latitude': point.latitude,\n",
    "                'longitude': point.longitude,\n",
    "                'time': point.time\n",
    "            })"
   ]
  },
  {
   "cell_type": "code",
   "execution_count": null,
   "id": "01be729c",
   "metadata": {},
   "outputs": [],
   "source": [
    "coordinates_times"
   ]
  },
  {
   "cell_type": "code",
   "execution_count": null,
   "id": "5a9d6ce9",
   "metadata": {},
   "outputs": [],
   "source": []
  },
  {
   "cell_type": "code",
   "execution_count": null,
   "id": "7b0a7ccf",
   "metadata": {},
   "outputs": [],
   "source": []
  },
  {
   "cell_type": "code",
   "execution_count": null,
   "id": "80995ae0",
   "metadata": {},
   "outputs": [],
   "source": []
  },
  {
   "cell_type": "code",
   "execution_count": null,
   "id": "87d88212",
   "metadata": {},
   "outputs": [],
   "source": []
  },
  {
   "cell_type": "code",
   "execution_count": null,
   "id": "e5605565",
   "metadata": {},
   "outputs": [],
   "source": []
  },
  {
   "cell_type": "code",
   "execution_count": 8,
   "id": "5f168ff8",
   "metadata": {},
   "outputs": [
    {
     "name": "stdout",
     "output_type": "stream",
     "text": [
      "{'success': False, 'error': {'code': 101, 'type': 'invalid_access_key', 'info': 'You have not supplied a valid API Access Key. [Technical Support: support@apilayer.com]'}}\n"
     ]
    }
   ],
   "source": [
    "url = \"https://api.weatherstack.com/current?access_key={2e36ec894a2e1b7de6a6874b651d5c08}\"\n",
    "\n",
    "querystring = {\"query\":\"-48.4648,-72.5608\"}\n",
    "\n",
    "response = requests.get(url, params=querystring)\n",
    "\n",
    "print(response.json())"
   ]
  },
  {
   "cell_type": "code",
   "execution_count": null,
   "id": "da0c46c7",
   "metadata": {},
   "outputs": [],
   "source": []
  }
 ],
 "metadata": {
  "kernelspec": {
   "display_name": "Python 3 (ipykernel)",
   "language": "python",
   "name": "python3"
  },
  "language_info": {
   "codemirror_mode": {
    "name": "ipython",
    "version": 3
   },
   "file_extension": ".py",
   "mimetype": "text/x-python",
   "name": "python",
   "nbconvert_exporter": "python",
   "pygments_lexer": "ipython3",
   "version": "3.9.13"
  }
 },
 "nbformat": 4,
 "nbformat_minor": 5
}
