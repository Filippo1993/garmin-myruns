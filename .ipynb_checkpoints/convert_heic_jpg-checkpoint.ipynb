{
 "cells": [
  {
   "cell_type": "markdown",
   "id": "9776d3d3",
   "metadata": {},
   "source": [
    "#### convert images from iphone to JPG and name them with Latitude_longitude"
   ]
  },
  {
   "cell_type": "code",
   "execution_count": 1,
   "id": "21aee9fe",
   "metadata": {},
   "outputs": [],
   "source": [
    "import os\n",
    "iphone_picture_folder = '/Users/filippomichelon/Documents/PersonalCode/garmin_patagonia_plots/base_img_iphone'"
   ]
  },
  {
   "cell_type": "code",
   "execution_count": 9,
   "id": "cc63e361",
   "metadata": {},
   "outputs": [],
   "source": [
    "\n",
    "for file in os.listdir(iphone_picture_folder):\n",
    "    file"
   ]
  },
  {
   "cell_type": "code",
   "execution_count": 10,
   "id": "de26dae5",
   "metadata": {},
   "outputs": [
    {
     "data": {
      "text/plain": [
       "'/Users/filippomichelon/Documents/PersonalCode/garmin_patagonia_plots/base_img_iphone/IMG_2468.HEIC'"
      ]
     },
     "execution_count": 10,
     "metadata": {},
     "output_type": "execute_result"
    }
   ],
   "source": [
    "os.path.join(iphone_picture_folder, file)"
   ]
  },
  {
   "cell_type": "code",
   "execution_count": 30,
   "id": "e36699b0",
   "metadata": {},
   "outputs": [
    {
     "ename": "UnidentifiedImageError",
     "evalue": "cannot identify image file '/Users/filippomichelon/Documents/PersonalCode/garmin_patagonia_plots/base_img_iphone/IMG_2083.heic'",
     "output_type": "error",
     "traceback": [
      "\u001b[0;31m---------------------------------------------------------------------------\u001b[0m",
      "\u001b[0;31mUnidentifiedImageError\u001b[0m                    Traceback (most recent call last)",
      "\u001b[0;32m/var/folders/lt/qnvxzgp51w14zcg2dl847vqw0000gn/T/ipykernel_38943/1050899538.py\u001b[0m in \u001b[0;36m<module>\u001b[0;34m\u001b[0m\n\u001b[1;32m      3\u001b[0m \u001b[0;32mfor\u001b[0m \u001b[0mfile\u001b[0m \u001b[0;32min\u001b[0m \u001b[0mfiles\u001b[0m\u001b[0;34m:\u001b[0m\u001b[0;34m\u001b[0m\u001b[0;34m\u001b[0m\u001b[0m\n\u001b[1;32m      4\u001b[0m     \u001b[0mfile_folder\u001b[0m \u001b[0;34m=\u001b[0m \u001b[0mos\u001b[0m\u001b[0;34m.\u001b[0m\u001b[0mpath\u001b[0m\u001b[0;34m.\u001b[0m\u001b[0mjoin\u001b[0m\u001b[0;34m(\u001b[0m\u001b[0miphone_picture_folder\u001b[0m\u001b[0;34m,\u001b[0m \u001b[0mfile\u001b[0m\u001b[0;34m)\u001b[0m\u001b[0;34m\u001b[0m\u001b[0;34m\u001b[0m\u001b[0m\n\u001b[0;32m----> 5\u001b[0;31m     \u001b[0mimage\u001b[0m \u001b[0;34m=\u001b[0m \u001b[0mImage\u001b[0m\u001b[0;34m.\u001b[0m\u001b[0mopen\u001b[0m\u001b[0;34m(\u001b[0m\u001b[0mfile_folder\u001b[0m\u001b[0;34m)\u001b[0m\u001b[0;34m\u001b[0m\u001b[0;34m\u001b[0m\u001b[0m\n\u001b[0m\u001b[1;32m      6\u001b[0m     \u001b[0mexif_data\u001b[0m \u001b[0;34m=\u001b[0m \u001b[0mimage\u001b[0m\u001b[0;34m.\u001b[0m\u001b[0m_getexif\u001b[0m\u001b[0;34m(\u001b[0m\u001b[0;34m)\u001b[0m\u001b[0;34m\u001b[0m\u001b[0;34m\u001b[0m\u001b[0m\n\u001b[1;32m      7\u001b[0m     \u001b[0mprint\u001b[0m\u001b[0;34m(\u001b[0m\u001b[0mexif_data\u001b[0m\u001b[0;34m)\u001b[0m\u001b[0;34m\u001b[0m\u001b[0;34m\u001b[0m\u001b[0m\n",
      "\u001b[0;32m~/opt/anaconda3/lib/python3.9/site-packages/PIL/Image.py\u001b[0m in \u001b[0;36mopen\u001b[0;34m(fp, mode, formats)\u001b[0m\n\u001b[1;32m   3145\u001b[0m     \u001b[0;32mfor\u001b[0m \u001b[0mmessage\u001b[0m \u001b[0;32min\u001b[0m \u001b[0maccept_warnings\u001b[0m\u001b[0;34m:\u001b[0m\u001b[0;34m\u001b[0m\u001b[0;34m\u001b[0m\u001b[0m\n\u001b[1;32m   3146\u001b[0m         \u001b[0mwarnings\u001b[0m\u001b[0;34m.\u001b[0m\u001b[0mwarn\u001b[0m\u001b[0;34m(\u001b[0m\u001b[0mmessage\u001b[0m\u001b[0;34m)\u001b[0m\u001b[0;34m\u001b[0m\u001b[0;34m\u001b[0m\u001b[0m\n\u001b[0;32m-> 3147\u001b[0;31m     raise UnidentifiedImageError(\n\u001b[0m\u001b[1;32m   3148\u001b[0m         \u001b[0;34m\"cannot identify image file %r\"\u001b[0m \u001b[0;34m%\u001b[0m \u001b[0;34m(\u001b[0m\u001b[0mfilename\u001b[0m \u001b[0;32mif\u001b[0m \u001b[0mfilename\u001b[0m \u001b[0;32melse\u001b[0m \u001b[0mfp\u001b[0m\u001b[0;34m)\u001b[0m\u001b[0;34m\u001b[0m\u001b[0;34m\u001b[0m\u001b[0m\n\u001b[1;32m   3149\u001b[0m     )\n",
      "\u001b[0;31mUnidentifiedImageError\u001b[0m: cannot identify image file '/Users/filippomichelon/Documents/PersonalCode/garmin_patagonia_plots/base_img_iphone/IMG_2083.heic'"
     ]
    }
   ],
   "source": [
    "from PIL import Image\n",
    "\n",
    "for file in files:\n",
    "    file_folder = os.path.join(iphone_picture_folder, file)\n",
    "    image = Image.open(file_folder)\n",
    "    exif_data = image._getexif()\n",
    "    print(exif_data)\n"
   ]
  },
  {
   "cell_type": "code",
   "execution_count": 45,
   "id": "34141da5",
   "metadata": {},
   "outputs": [],
   "source": [
    "import folium\n",
    "m = folium.Map(location=(-71.351871840295871, -73.655963711222626), tiles=\"cartodb positron\")\n",
    "\n",
    "trail_coordinates = [\n",
    "    (-71.351871840295871, -73.655963711222626),\n",
    "    (-71.374144382613707, -73.719861619751498),\n",
    "    (-71.391042575973145, -73.784922248007007),\n",
    "    (-71.400964450973134, -73.851042243124397),\n",
    "    (-71.402411391077322, -74.050048183880477),\n",
    "]\n",
    "\n",
    "folium.PolyLine(trail_coordinates, tooltip=\"Coast\").add_to(m)\n",
    "\n",
    "m.save('gps_trip_map.html')"
   ]
  },
  {
   "cell_type": "code",
   "execution_count": 46,
   "id": "8258390c",
   "metadata": {},
   "outputs": [],
   "source": [
    "import folium\n",
    "from folium.plugins import MarkerCluster\n",
    "import os\n",
    "\n",
    "# Percorso GPS (sostituisci con il tuo file .gpx o dati GPS)\n",
    "gps_track = [\n",
    "    ( -49.281, -74.291),  # esempio di latitudine e longitudine del percorso\n",
    "    ( -49.282, -74.292), \n",
    "    ( -49.283, -74.293),\n",
    "]\n",
    "\n",
    "# Cartella delle immagini con i punti GPS\n",
    "image_folder = '/Users/filippomichelon/Documents/PersonalCode/garmin_patagonia_plots/'\n",
    "\n",
    "# Crea una mappa centrata su una posizione iniziale (adatta latitudine e longitudine)\n",
    "m = folium.Map(location=[-49.281, -74.291], zoom_start=10)\n",
    "\n",
    "# Aggiungi il percorso GPS alla mappa\n",
    "folium.PolyLine(gps_track, color='blue', weight=2.5, opacity=1).add_to(m)\n",
    "\n",
    "# Aggiungi le immagini e le note ai punti GPS\n",
    "marker_cluster = MarkerCluster().add_to(m)\n",
    "\n",
    "for lat, lon in gps_track:\n",
    "    # Inserisci la tua immagine specifica per ogni punto\n",
    "    img_file = os.path.join(image_folder, 'your_image.jpg')  # Sostituisci con i tuoi nomi di file\n",
    "    note = \"Questa è una descrizione della foto o del punto di interesse.\"  # La tua nota\n",
    "    \n",
    "    popup_content = folium.Popup(f'<img src=\"{img_file}\" width=\"300\"><br><strong>Nota:</strong> {note}', max_width=300)\n",
    "    \n",
    "    folium.Marker(\n",
    "        location=[lat, lon],\n",
    "        popup=popup_content,\n",
    "        icon=folium.Icon(color=\"green\", icon=\"info-sign\"),\n",
    "    ).add_to(marker_cluster)\n",
    "\n",
    "# Salva la mappa in un file HTML\n",
    "m.save('gps_trip_map_with_notes.html')\n"
   ]
  },
  {
   "cell_type": "code",
   "execution_count": null,
   "id": "03e03bb2",
   "metadata": {},
   "outputs": [],
   "source": []
  }
 ],
 "metadata": {
  "kernelspec": {
   "display_name": "Python 3 (ipykernel)",
   "language": "python",
   "name": "python3"
  },
  "language_info": {
   "codemirror_mode": {
    "name": "ipython",
    "version": 3
   },
   "file_extension": ".py",
   "mimetype": "text/x-python",
   "name": "python",
   "nbconvert_exporter": "python",
   "pygments_lexer": "ipython3",
   "version": "3.9.13"
  }
 },
 "nbformat": 4,
 "nbformat_minor": 5
}
